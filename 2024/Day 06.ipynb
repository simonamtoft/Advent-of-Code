{
 "cells": [
  {
   "cell_type": "markdown",
   "metadata": {},
   "source": [
    "# Day 6: Guard Gallivant"
   ]
  },
  {
   "cell_type": "code",
   "execution_count": null,
   "metadata": {},
   "outputs": [],
   "source": [
    "import numpy as np\n",
    "from copy import deepcopy\n",
    "from time import sleep, time\n",
    "import matplotlib.pyplot as plt\n",
    "from IPython.display import clear_output, display\n",
    "with open('data/2024-06.txt', 'r') as f:\n",
    "    data = f.readlines()\n",
    "\n",
    "char_map = {\n",
    "    '.': 0,\n",
    "    'X': 1,\n",
    "    '^': 2,\n",
    "    '#': 3,\n",
    "}\n",
    "all_rows = []\n",
    "for row in data:\n",
    "    all_rows.append([char_map[char] for char in row.strip()])\n",
    "\n",
    "\n",
    "def turn(direction: np.ndarray) -> np.ndarray:\n",
    "    return np.array([direction[1], -direction[0]])\n",
    "\n",
    "\n",
    "def is_outside(board, c_pos, c_dir) -> bool:\n",
    "    return any([\n",
    "        (c_dir[0] == -1 and c_pos[0] == 0),\n",
    "        (c_dir[1] == -1 and c_pos[1] == 0),\n",
    "        (c_dir[0] == 1 and c_pos[0] == board.shape[0]-1),\n",
    "        (c_dir[1] == 1 and c_pos[1] == board.shape[1]-1)\n",
    "    ])\n",
    "\n",
    "\n",
    "def compute_route(arr, c_pos, perform_plot: bool):\n",
    "    # get starting direction\n",
    "    c_dir = np.array([-1, 0])\n",
    "\n",
    "    # convert starting pos to 1\n",
    "    arr[*c_pos] = 1\n",
    "\n",
    "    # setup plot figure\n",
    "    if perform_plot:\n",
    "        fig, ax = plt.subplots(figsize=(8, 8))\n",
    "        mat = ax.matshow(arr, cmap=plt.cm.Blues)\n",
    "        plt.axis('off')\n",
    "\n",
    "    is_looping = False\n",
    "    visited_obstacles = []\n",
    "    while not is_outside(arr, c_pos, c_dir):\n",
    "        next_pos = c_pos + c_dir\n",
    "        if arr[*next_pos] == 3:\n",
    "            obsactle = [*list(next_pos), *list(c_dir)]\n",
    "            if obsactle in visited_obstacles:\n",
    "                is_looping = True\n",
    "                break\n",
    "            visited_obstacles.append(obsactle)\n",
    "\n",
    "            # update direction and next position\n",
    "            c_dir = turn(c_dir)\n",
    "            next_pos = c_pos\n",
    "            continue\n",
    "\n",
    "        # update current position to be next position\n",
    "        c_pos = next_pos\n",
    "\n",
    "        # update current position to be X\n",
    "        arr[*c_pos] = 1 \n",
    "\n",
    "        # update plot\n",
    "        if perform_plot:\n",
    "            mat.set_data(arr)\n",
    "            clear_output(wait=True)\n",
    "            display(fig)\n",
    "            # sleep(0.01)\n",
    "    plt.close()\n",
    "    return arr, is_looping"
   ]
  },
  {
   "cell_type": "markdown",
   "metadata": {},
   "source": [
    "## Part 1"
   ]
  },
  {
   "cell_type": "code",
   "execution_count": null,
   "metadata": {},
   "outputs": [],
   "source": [
    "arr = np.array(all_rows)\n",
    "start_pos = np.array([np.where(arr == 2)[0][0].item(), np.where(arr == 2)[1][0].item()])\n",
    "arr_1, _ = compute_route(arr, start_pos, False)\n",
    "print('Part 1:', (arr_1 == 1).sum())"
   ]
  },
  {
   "cell_type": "markdown",
   "metadata": {},
   "source": [
    "## Part 2"
   ]
  },
  {
   "cell_type": "code",
   "execution_count": null,
   "metadata": {},
   "outputs": [],
   "source": [
    "def process_route(args):\n",
    "    in_arr, new_obstacle, start_pos = args\n",
    "    new_arr = deepcopy(in_arr)\n",
    "    new_arr[*new_obstacle] = 3\n",
    "    _, is_loop = compute_route(new_arr, start_pos, False)\n",
    "    return 1 if is_loop else 0\n",
    "\n",
    "\n",
    "# try to put an obstacle in any of the spots he took,\n",
    "# excluding his starting position\n",
    "arr_1[*start_pos] = 2\n",
    "obstacle_options = np.where(arr_1 == 1)\n",
    "obstacle_options = list(zip(*obstacle_options))"
   ]
  },
  {
   "cell_type": "markdown",
   "metadata": {},
   "source": [
    "### Slow"
   ]
  },
  {
   "cell_type": "code",
   "execution_count": null,
   "metadata": {},
   "outputs": [],
   "source": [
    "start_time = time()\n",
    "count = 0\n",
    "for obstacle_placement in obstacle_options:\n",
    "    new_arr = deepcopy(arr)\n",
    "    new_arr[*obstacle_placement] = 3\n",
    "    _, is_loop = compute_route(new_arr, start_pos, False)\n",
    "    count += is_loop\n",
    "print('Part 2:', count)\n",
    "print('Time:', time() - start_time)"
   ]
  },
  {
   "cell_type": "markdown",
   "metadata": {},
   "source": [
    "### Fast \n",
    "fails in notebook :("
   ]
  },
  {
   "cell_type": "code",
   "execution_count": null,
   "metadata": {},
   "outputs": [],
   "source": [
    "from concurrent.futures import ProcessPoolExecutor\n",
    "start_time = time()\n",
    "with ProcessPoolExecutor() as executor:\n",
    "    results = list(executor.map(\n",
    "        process_route, [(arr, obstacle_placement, start_pos) for obstacle_placement in obstacle_options]))\n",
    "print('Part 2:', sum(results))\n",
    "print('Time:', time() - start_time)"
   ]
  },
  {
   "cell_type": "code",
   "execution_count": null,
   "metadata": {},
   "outputs": [],
   "source": []
  }
 ],
 "metadata": {
  "kernelspec": {
   "display_name": ".venv",
   "language": "python",
   "name": "python3"
  },
  "language_info": {
   "codemirror_mode": {
    "name": "ipython",
    "version": 3
   },
   "file_extension": ".py",
   "mimetype": "text/x-python",
   "name": "python",
   "nbconvert_exporter": "python",
   "pygments_lexer": "ipython3",
   "version": "3.11.7"
  }
 },
 "nbformat": 4,
 "nbformat_minor": 2
}
