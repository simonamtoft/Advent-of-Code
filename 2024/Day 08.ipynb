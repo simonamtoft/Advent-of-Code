{
 "cells": [
  {
   "cell_type": "markdown",
   "metadata": {},
   "source": [
    "# Day 8: Resonant Collinearity"
   ]
  },
  {
   "cell_type": "code",
   "execution_count": 1,
   "metadata": {},
   "outputs": [],
   "source": [
    "import numpy as np\n",
    "import matplotlib.pyplot as plt\n",
    "\n",
    "def read_data(is_test: bool = False):\n",
    "    if is_test:\n",
    "        with open('data/2024-08-example.txt', 'r') as f:\n",
    "            data = f.readlines()\n",
    "    else:\n",
    "        with open('data/2024-08.txt', 'r') as f:\n",
    "            data = f.readlines()\n",
    "    data = [x.strip() for x in data]\n",
    "    return data"
   ]
  },
  {
   "cell_type": "code",
   "execution_count": 22,
   "metadata": {},
   "outputs": [],
   "source": [
    "def locate_frequencies(data: list, plot: bool = False):\n",
    "    h = len(data)\n",
    "    w = len(data[0])\n",
    "    \n",
    "    # locate all frequencies\n",
    "    frequencies = {}\n",
    "    for y in range(h):\n",
    "        for x in range(w):\n",
    "            p = data[y][x]\n",
    "            if p != '.':\n",
    "                frequencies.setdefault(p, [])\n",
    "                frequencies[p].append((y, x))\n",
    "    \n",
    "    if plot:\n",
    "        fig, ax = plt.subplots(figsize=(4, 4))\n",
    "        \n",
    "        # create array\n",
    "        arr = np.zeros((h, w))\n",
    "        for p, coords in frequencies.items():\n",
    "            for y, x in coords:\n",
    "                arr[y, x] = 1\n",
    "                text = ax.text(x, y, p, ha=\"center\", va=\"center\", color=\"w\")\n",
    "        ax.imshow(arr, cmap='Blues')\n",
    "        plt.axis('off')\n",
    "        plt.title('Frequencies')\n",
    "        \n",
    "        # Loop over data dimensions and create text annotations.\n",
    "        plt.show()\n",
    "    return frequencies, h, w\n",
    "\n",
    "\n",
    "def get_antinode(node_1: np.ndarray, node_2: np.ndarray, antinode_locations: set) -> tuple:\n",
    "    diff = node_2 - node_1\n",
    "    antinode = node_2 + diff\n",
    "    \n",
    "    if (antinode[0] >= 0 and antinode[0] < h and antinode[1] >= 0 and antinode[1] < w):\n",
    "        antinode_locations.add(tuple(antinode.tolist()))\n",
    "\n",
    "\n",
    "def get_antinode_2(node_1: np.ndarray, node_2: np.ndarray, antinode_locations: set) -> tuple:\n",
    "    diff = node_2 - node_1\n",
    "    antinode = node_2 + diff\n",
    "    antinode_locations.add(tuple(node_2.tolist()))\n",
    "    \n",
    "    while (antinode[0] >= 0 and antinode[0] < h and antinode[1] >= 0 and antinode[1] < w):\n",
    "        antinode_locations.add(tuple(antinode.tolist()))\n",
    "        antinode += diff\n",
    "\n",
    "\n",
    "def get_antinodes(freq: dict, plot: bool = False, part_2: bool = False) -> set:\n",
    "    antinode_locations = set()\n",
    "    for p, locs in frequencies.items():\n",
    "        for i in range(len(locs)):\n",
    "            for j in range(i):\n",
    "                n1, n2 = np.array(locs[i]), np.array(locs[j])\n",
    "                if part_2:\n",
    "                    get_antinode_2(n1, n2, antinode_locations)\n",
    "                    get_antinode_2(n2, n1, antinode_locations)\n",
    "                else:\n",
    "                    get_antinode(n1, n2, antinode_locations)\n",
    "                    get_antinode(n2, n1, antinode_locations)\n",
    "\n",
    "    if plot:\n",
    "        # create array\n",
    "        arr = np.zeros((h, w))\n",
    "        for loc in antinode_locations:\n",
    "            arr[loc[0], loc[1]] = 1\n",
    "        plt.imshow(arr, cmap='Blues')\n",
    "        plt.axis('off')\n",
    "        plt.title('Antinodes')\n",
    "\n",
    "        # Loop over data dimensions and create text annotations.\n",
    "        plt.show()    \n",
    "    return antinode_locations"
   ]
  },
  {
   "cell_type": "code",
   "execution_count": 23,
   "metadata": {},
   "outputs": [],
   "source": [
    "data = read_data(is_test=False)\n",
    "frequencies, h, w = locate_frequencies(data, plot=False)"
   ]
  },
  {
   "cell_type": "code",
   "execution_count": null,
   "metadata": {},
   "outputs": [],
   "source": [
    "antinode_locations = get_antinodes(frequencies)\n",
    "print('Part 1:', len(antinode_locations))"
   ]
  },
  {
   "cell_type": "code",
   "execution_count": null,
   "metadata": {},
   "outputs": [],
   "source": [
    "antinode_locations = get_antinodes(frequencies, part_2=True)\n",
    "print('Part 2:', len(antinode_locations))"
   ]
  },
  {
   "cell_type": "code",
   "execution_count": null,
   "metadata": {},
   "outputs": [],
   "source": []
  }
 ],
 "metadata": {
  "kernelspec": {
   "display_name": ".venv",
   "language": "python",
   "name": "python3"
  },
  "language_info": {
   "codemirror_mode": {
    "name": "ipython",
    "version": 3
   },
   "file_extension": ".py",
   "mimetype": "text/x-python",
   "name": "python",
   "nbconvert_exporter": "python",
   "pygments_lexer": "ipython3",
   "version": "3.11.10"
  }
 },
 "nbformat": 4,
 "nbformat_minor": 2
}
