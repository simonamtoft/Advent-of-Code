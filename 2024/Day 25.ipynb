{
 "cells": [
  {
   "cell_type": "markdown",
   "metadata": {},
   "source": [
    "# Day 25: Code Chronicle"
   ]
  },
  {
   "cell_type": "code",
   "execution_count": 1,
   "metadata": {},
   "outputs": [],
   "source": [
    "import numpy as np\n",
    "\n",
    "\n",
    "def compute_heights(items: list):\n",
    "    heights = []\n",
    "    for item in items:\n",
    "        item_c = np.zeros((len(item), len(item[0])), dtype=int)\n",
    "        for i, k in enumerate(item):\n",
    "            for j, c in enumerate(k):\n",
    "                item_c[i, j] = 1 if c == '#' else 0\n",
    "        heights.append(item_c.sum(axis=0) - 1)\n",
    "    return heights\n",
    "\n",
    "\n",
    "def read_data(is_test: bool = False):\n",
    "    if is_test:\n",
    "        with open('data/2024-25-example.txt', 'r') as f:\n",
    "            data = f.readlines()\n",
    "    else:\n",
    "        with open('data/2024-25.txt', 'r') as f:\n",
    "            data = f.readlines()\n",
    "\n",
    "    lists = []\n",
    "    rows_list = []\n",
    "    for row in data:\n",
    "        row = row.strip()\n",
    "        if row == '':\n",
    "            lists.append(rows_list)\n",
    "            rows_list = []\n",
    "        else:\n",
    "            rows_list.append(row)\n",
    "    lists.append(rows_list)\n",
    "    \n",
    "    keys = []\n",
    "    locks = []\n",
    "    for l in lists:\n",
    "        if l[0] == '#' * len(l[0]):\n",
    "            locks.append(l)\n",
    "        else:\n",
    "            keys.append(l)\n",
    "\n",
    "    k_heights = compute_heights(keys)\n",
    "    l_heights = compute_heights(locks)\n",
    "\n",
    "    return k_heights, l_heights"
   ]
  },
  {
   "cell_type": "code",
   "execution_count": 20,
   "metadata": {},
   "outputs": [],
   "source": [
    "available_space = 5\n",
    "k_heights, l_heights = read_data(False)\n",
    "l_heights = np.stack(l_heights)"
   ]
  },
  {
   "cell_type": "code",
   "execution_count": 23,
   "metadata": {},
   "outputs": [
    {
     "name": "stdout",
     "output_type": "stream",
     "text": [
      "Part 1: 3090\n"
     ]
    }
   ],
   "source": [
    "total_matches = 0\n",
    "for kh in k_heights:\n",
    "    matches = ((kh + np.stack(l_heights)) <= available_space).all(axis=1).sum()\n",
    "    total_matches += matches\n",
    "print('Part 1:', total_matches)"
   ]
  },
  {
   "cell_type": "code",
   "execution_count": null,
   "metadata": {},
   "outputs": [],
   "source": []
  }
 ],
 "metadata": {
  "kernelspec": {
   "display_name": ".venv",
   "language": "python",
   "name": "python3"
  },
  "language_info": {
   "codemirror_mode": {
    "name": "ipython",
    "version": 3
   },
   "file_extension": ".py",
   "mimetype": "text/x-python",
   "name": "python",
   "nbconvert_exporter": "python",
   "pygments_lexer": "ipython3",
   "version": "3.11.10"
  }
 },
 "nbformat": 4,
 "nbformat_minor": 2
}
