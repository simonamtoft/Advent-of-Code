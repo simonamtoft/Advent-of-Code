{
 "cells": [
  {
   "cell_type": "markdown",
   "metadata": {},
   "source": [
    "# Day 12: Garden Groups"
   ]
  },
  {
   "cell_type": "code",
   "execution_count": null,
   "metadata": {},
   "outputs": [],
   "source": [
    "import numpy as np\n",
    "from skimage import measure\n",
    "import matplotlib.pyplot as plt\n",
    "\n",
    "with open('data/2024-12-example.txt', 'r') as f:\n",
    "    test_data = f.readlines()\n",
    "with open('data/2024-12.txt', 'r') as f:\n",
    "    data = f.readlines()\n",
    "\n",
    "test_data = [\n",
    "    'EEEEE',\n",
    "    'EXXXX',\n",
    "    'EEEEE',\n",
    "    'EXXXX',\n",
    "    'EEEEE'\n",
    "]\n",
    "\n",
    "\n",
    "data = [x.strip() for x in data]\n",
    "test_data = [x.strip() for x in test_data]"
   ]
  },
  {
   "cell_type": "code",
   "execution_count": null,
   "metadata": {},
   "outputs": [],
   "source": [
    "def label_regions(str_data: list, plot: bool = False):\n",
    "    # convert input data to array    \n",
    "    plant_types = list(set(''.join(str_data)))\n",
    "    arr = np.zeros((len(str_data), len(str_data[0])))\n",
    "    for i in range(len(str_data)):\n",
    "        for j in range(len(str_data[i].strip())):\n",
    "            arr[i, j] = plant_types.index(str_data[i][j]) + 1\n",
    "    \n",
    "    if plot:\n",
    "        plt.imshow(arr)\n",
    "        plt.axis('off')\n",
    "        plt.title('Areas')\n",
    "        plt.show()\n",
    "\n",
    "    return arr\n",
    "\n",
    "\n",
    "def label_areas(region_array, plot: bool = False):\n",
    "    # label the regions\n",
    "    label_array = measure.label(region_array.astype(int), connectivity=1)\n",
    "\n",
    "    if plot:\n",
    "        plt.imshow(label_array)\n",
    "        plt.title('Labeled Areas')\n",
    "        plt.axis('off')\n",
    "        plt.show()\n",
    "    return label_array\n",
    "\n",
    "\n",
    "def calculate_perimeter(label_array, plot: bool = False):\n",
    "    # start with all perimeters as 4\n",
    "    perimeters = np.ones_like(label_array) * 4\n",
    "    \n",
    "    # remove count for each adjacent pixel with the same label\n",
    "    for i in range(label_array.shape[0]):\n",
    "        for j in range(label_array.shape[1]):\n",
    "            c_label = label_array[i, j]\n",
    "            # left side\n",
    "            if i > 0:\n",
    "                if c_label == label_array[i-1, j]:\n",
    "                    perimeters[i, j] -= 1\n",
    "            # right side\n",
    "            if i < label_array.shape[0] - 1:\n",
    "                if c_label == label_array[i+1, j]:\n",
    "                    perimeters[i, j] -= 1\n",
    "            # top side\n",
    "            if j > 0:\n",
    "                if c_label == label_array[i, j-1]:\n",
    "                    perimeters[i, j] -= 1\n",
    "            # bottom side\n",
    "            if j < label_array.shape[1] - 1:\n",
    "                if c_label == label_array[i, j+1]:\n",
    "                    perimeters[i, j] -= 1\n",
    "\n",
    "    \n",
    "    if plot:\n",
    "        plt.imshow(perimeters)\n",
    "        plt.title('Perimeters')\n",
    "        plt.axis('off')\n",
    "        plt.show()\n",
    "    \n",
    "    return perimeters\n",
    "\n",
    "\n",
    "def compute_price_perimeter(label_array, perimeter):\n",
    "    total_price = 0\n",
    "    for region in measure.regionprops(label_array):\n",
    "        # compute perimeter of region\n",
    "        region_perimeter = 0\n",
    "        for c in region.coords:\n",
    "            region_perimeter += perimeter[c[0], c[1]]\n",
    "\n",
    "        # compute cost of region\n",
    "        total_price += region_perimeter * int(region.area)\n",
    "    return total_price"
   ]
  },
  {
   "cell_type": "markdown",
   "metadata": {},
   "source": [
    "## Part 1"
   ]
  },
  {
   "cell_type": "code",
   "execution_count": null,
   "metadata": {},
   "outputs": [],
   "source": [
    "region_array = label_regions(test_data, plot=False)\n",
    "labels = label_areas(region_array, plot=False)\n",
    "perimeters = calculate_perimeter(labels, plot=False)\n",
    "print('Part 1 (test):', compute_price_perimeter(labels, perimeters))"
   ]
  },
  {
   "cell_type": "code",
   "execution_count": null,
   "metadata": {},
   "outputs": [],
   "source": [
    "# region_array = label_regions(data, plot=False)\n",
    "# labels = label_areas(region_array, plot=False)\n",
    "# perimeters = calculate_perimeter(labels, plot=False)\n",
    "# print('Part 1:', compute_price_perimeter(labels, perimeters))"
   ]
  },
  {
   "cell_type": "markdown",
   "metadata": {},
   "source": [
    "## Part 2"
   ]
  },
  {
   "cell_type": "code",
   "execution_count": null,
   "metadata": {},
   "outputs": [],
   "source": [
    "def calculate_price_sides(label_array, perimeter):\n",
    "    total_price = 0\n",
    "    for region in measure.regionprops(label_array):\n",
    "        # compute number of sides in region\n",
    "        region_sides = 0\n",
    "        for c in region.coords:\n",
    "            region_perimeter += perimeter[c[0], c[1]]\n",
    "\n",
    "        # compute cost of region\n",
    "        total_price += region_perimeter * int(region.area)\n",
    "    return total_price\n"
   ]
  },
  {
   "cell_type": "code",
   "execution_count": null,
   "metadata": {},
   "outputs": [],
   "source": [
    "for region in measure.regionprops(labels):\n",
    "    reg_coords = region.coords\n",
    "    \n",
    "    # split into X and Y groups to find connected regions\n",
    "    sorted_x = reg_coords[reg_coords[:, 0].argsort()]\n",
    "    sorted_y = reg_coords[reg_coords[:, 1].argsort()]\n",
    "    groups_x = np.split(sorted_x[:, 1], np.unique(sorted_x[:, 0], return_index=True)[1][1:])\n",
    "    groups_y = np.split(sorted_y[:, 0], np.unique(sorted_y[:, 1], return_index=True)[1][1:])\n",
    "    \n",
    "    \n",
    "    for i in range(len(groups_x)-1):\n",
    "        break"
   ]
  },
  {
   "cell_type": "code",
   "execution_count": null,
   "metadata": {},
   "outputs": [],
   "source": []
  }
 ],
 "metadata": {
  "kernelspec": {
   "display_name": ".venv",
   "language": "python",
   "name": "python3"
  },
  "language_info": {
   "codemirror_mode": {
    "name": "ipython",
    "version": 3
   },
   "file_extension": ".py",
   "mimetype": "text/x-python",
   "name": "python",
   "nbconvert_exporter": "python",
   "pygments_lexer": "ipython3",
   "version": "3.11.10"
  }
 },
 "nbformat": 4,
 "nbformat_minor": 2
}
