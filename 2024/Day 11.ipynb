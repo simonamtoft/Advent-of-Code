{
 "cells": [
  {
   "cell_type": "markdown",
   "metadata": {},
   "source": [
    "# Day 11: "
   ]
  },
  {
   "cell_type": "code",
   "execution_count": null,
   "metadata": {},
   "outputs": [],
   "source": [
    "from tqdm import tqdm\n",
    "from copy import deepcopy\n",
    "with open('data/2024-11.txt', 'r') as f:\n",
    "    data = f.readlines()\n",
    "data = data[0].strip()\n",
    "stones = data.split()\n",
    "stones"
   ]
  },
  {
   "cell_type": "code",
   "execution_count": null,
   "metadata": {},
   "outputs": [],
   "source": [
    "upd_cache = {}\n",
    "def blink_update_stone(st: str) -> list:\n",
    "    if st == '0':\n",
    "        st_upd = ['1']\n",
    "    elif len(st) % 2 == 0:\n",
    "        middle_idx = int(len(st) / 2)\n",
    "        st_upd = [st[:middle_idx], str(int(st[middle_idx:]))]\n",
    "    else:\n",
    "        st_upd = [str(2024 * int(st))]\n",
    "    upd_cache[st] = st_upd\n",
    "    return st_upd\n",
    "\n",
    "\n",
    "def update_stones(initial_stones: list, n_blinks: int) -> int:\n",
    "    stones_count = {}\n",
    "    for stone in initial_stones:\n",
    "        stones_count[stone] = stones_count.get(stone, 0) + 1\n",
    "\n",
    "    for _ in range(n_blinks):\n",
    "        new_stones_count = {}\n",
    "        for stone, count in stones_count.items():\n",
    "            for r in (upd_cache.get(stone) if stone in upd_cache else blink_update_stone(stone)):\n",
    "                new_stones_count[r] = new_stones_count.get(r, 0) + count\n",
    "        stones_count = new_stones_count\n",
    "    return sum(stones_count.values())"
   ]
  },
  {
   "cell_type": "code",
   "execution_count": null,
   "metadata": {},
   "outputs": [],
   "source": [
    "print('Part 1:', update_stones(stones, 25))\n",
    "print('Part 2:', update_stones(stones, 75))"
   ]
  }
 ],
 "metadata": {
  "kernelspec": {
   "display_name": ".venv",
   "language": "python",
   "name": "python3"
  },
  "language_info": {
   "codemirror_mode": {
    "name": "ipython",
    "version": 3
   },
   "file_extension": ".py",
   "mimetype": "text/x-python",
   "name": "python",
   "nbconvert_exporter": "python",
   "pygments_lexer": "ipython3",
   "version": "3.11.7"
  }
 },
 "nbformat": 4,
 "nbformat_minor": 2
}
