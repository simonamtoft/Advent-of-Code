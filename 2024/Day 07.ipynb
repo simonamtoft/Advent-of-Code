{
 "cells": [
  {
   "cell_type": "code",
   "execution_count": null,
   "metadata": {},
   "outputs": [],
   "source": [
    "import numpy as np\n",
    "import itertools\n",
    "\n",
    "\n",
    "def evaluate_equation(equation: str, allowed_ops: list) -> int:\n",
    "    equation = equation.strip()\n",
    "    eq_res = int(equation.split(':')[0])\n",
    "    numbers = [int(num) for num in equation.split(':')[1].strip().split(' ')]\n",
    "    ops = list(itertools.product(allowed_ops, repeat=(len(numbers)-1)))\n",
    "    \n",
    "    for op in ops:\n",
    "        current_val = numbers[0]\n",
    "        for i in range(len(op)):\n",
    "            if op[i] == '*':\n",
    "                current_val *= numbers[i+1]\n",
    "            elif op[i] == '+':\n",
    "                current_val += numbers[i+1]\n",
    "            elif op[i] == '||':\n",
    "                current_val = int(str(current_val) + str(numbers[i+1]))\n",
    "\n",
    "        if current_val == eq_res:\n",
    "            return eq_res\n",
    "    return 0"
   ]
  },
  {
   "cell_type": "code",
   "execution_count": null,
   "metadata": {},
   "outputs": [],
   "source": [
    "with open('data/2024-07-example.txt', 'r') as f:\n",
    "    test_data = f.readlines()\n",
    "    \n",
    "with open('data/2024-07.txt', 'r') as f:\n",
    "    data = f.readlines()"
   ]
  },
  {
   "cell_type": "code",
   "execution_count": null,
   "metadata": {},
   "outputs": [],
   "source": [
    "total = 0\n",
    "allowed_ops = ['*', '+']\n",
    "for equation in data:\n",
    "    total += evaluate_equation(equation, allowed_ops)\n",
    "print('Part 1:', total)"
   ]
  },
  {
   "cell_type": "code",
   "execution_count": null,
   "metadata": {},
   "outputs": [],
   "source": [
    "total = 0\n",
    "allowed_ops = ['*', '+', '||']\n",
    "for equation in data:\n",
    "    total += evaluate_equation(equation, allowed_ops)\n",
    "print('Part 2:', total)"
   ]
  },
  {
   "cell_type": "code",
   "execution_count": null,
   "metadata": {},
   "outputs": [],
   "source": []
  }
 ],
 "metadata": {
  "kernelspec": {
   "display_name": ".venv",
   "language": "python",
   "name": "python3"
  },
  "language_info": {
   "codemirror_mode": {
    "name": "ipython",
    "version": 3
   },
   "file_extension": ".py",
   "mimetype": "text/x-python",
   "name": "python",
   "nbconvert_exporter": "python",
   "pygments_lexer": "ipython3",
   "version": "3.11.10"
  }
 },
 "nbformat": 4,
 "nbformat_minor": 2
}
