{
 "cells": [
  {
   "cell_type": "markdown",
   "metadata": {},
   "source": [
    "# Day 4"
   ]
  },
  {
   "cell_type": "code",
   "execution_count": null,
   "metadata": {},
   "outputs": [],
   "source": [
    "import re\n",
    "from copy import deepcopy\n",
    "with open('data/2024-04.txt', 'r') as f:\n",
    "    data = f.readlines()"
   ]
  },
  {
   "cell_type": "markdown",
   "metadata": {},
   "source": [
    "## Part 1"
   ]
  },
  {
   "cell_type": "code",
   "execution_count": null,
   "metadata": {},
   "outputs": [],
   "source": [
    "# Define the word to search for\n",
    "target_word = \"XMAS\"\n",
    "target_word_reversed = target_word[::-1]\n",
    "targets = [target_word, target_word_reversed]\n",
    "target_len = len(target_word)\n",
    "\n",
    "# Function to count occurrences of the target word in a grid\n",
    "def count_occurrences(grid, target_words: list):\n",
    "    count = 0\n",
    "\n",
    "    # Horizontal search (left to right and right to left)\n",
    "    for r in range(len(grid)):\n",
    "        for c in range(len(grid[r]) - target_len + 1):  # Ensure enough room for the target\n",
    "            # Check occurrence (left to right)\n",
    "            if grid[r][c:c + target_len] in target_words:\n",
    "                count += 1\n",
    "\n",
    "    # Vertical search (top to bottom and bottom to top)\n",
    "    for c in range(len(grid[0])):\n",
    "        for r in range(len(grid) - target_len + 1):  # Ensure enough room for the target\n",
    "            # Check downward/upward occurrence (top to bottom)\n",
    "            if ''.join(grid[r + i][c] for i in range(target_len)) in target_words:\n",
    "                count += 1\n",
    "\n",
    "    # Diagonal search (bottom-left to top-right and top-left to bottom-right)\n",
    "    for r in range(len(grid) - target_len + 1):\n",
    "        for c in range(len(grid[r]) - target_len + 1):\n",
    "            # Check bottom-left to top-right\n",
    "            if ''.join(grid[r + i][c + i] for i in range(target_len)) in target_words:\n",
    "                count += 1\n",
    "\n",
    "    # Diagonal search (top-left to bottom-right and bottom-left to top-right)\n",
    "    for r in range(target_len - 1, len(grid)):\n",
    "        for c in range(len(grid[r]) - target_len + 1):\n",
    "            # Check top-left to bottom-right\n",
    "            if ''.join(grid[r - i][c + i] for i in range(target_len)) in target_words:\n",
    "                count += 1\n",
    "\n",
    "    return count\n",
    "\n",
    "# Count all occurrences of \"XMAS\"\n",
    "total_occurrences = count_occurrences(data, targets)\n",
    "\n",
    "# Print the result\n",
    "print(f\"Total occurrences of 'XMAS': {total_occurrences}\")\n"
   ]
  },
  {
   "cell_type": "markdown",
   "metadata": {},
   "source": [
    "## Part 2"
   ]
  },
  {
   "cell_type": "code",
   "execution_count": null,
   "metadata": {},
   "outputs": [],
   "source": [
    "count = 0\n",
    "corner_tokens = ['M', 'S']\n",
    "for i in range(1, len(data)-1):\n",
    "    row_1 = data[i-1]\n",
    "    row_2 = data[i]\n",
    "    row_3 = data[i+1]\n",
    "\n",
    "    # check through all occurances of A in row_2\n",
    "    # but ignore the very first or very last character;\n",
    "    idx_A = [j + 1 for j, char in enumerate(row_2[1:-1]) if char == 'A']\n",
    "    \n",
    "    for j in idx_A:\n",
    "        # extract the corners\n",
    "        nw, ne = row_1[j-1], row_1[j+1]\n",
    "        sw, se = row_3[j-1], row_3[j+1]\n",
    "\n",
    "        # check that all corners are either M or S\n",
    "        has_mas = nw in corner_tokens \\\n",
    "            and ne in corner_tokens \\\n",
    "            and sw in corner_tokens \\\n",
    "            and se in corner_tokens\n",
    "\n",
    "        # check that the diagonal contains exactly one of each in MAS\n",
    "        is_mas = (nw != se) & (ne != sw)\n",
    "\n",
    "\n",
    "        count += (has_mas and is_mas)\n",
    "print(count)"
   ]
  },
  {
   "cell_type": "code",
   "execution_count": null,
   "metadata": {},
   "outputs": [],
   "source": []
  }
 ],
 "metadata": {
  "kernelspec": {
   "display_name": "Python 3",
   "language": "python",
   "name": "python3"
  },
  "language_info": {
   "codemirror_mode": {
    "name": "ipython",
    "version": 3
   },
   "file_extension": ".py",
   "mimetype": "text/x-python",
   "name": "python",
   "nbconvert_exporter": "python",
   "pygments_lexer": "ipython3",
   "version": "3.11.7"
  }
 },
 "nbformat": 4,
 "nbformat_minor": 2
}
