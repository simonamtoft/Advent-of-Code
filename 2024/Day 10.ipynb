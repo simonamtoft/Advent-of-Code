{
 "cells": [
  {
   "cell_type": "markdown",
   "metadata": {},
   "source": [
    "# Day 10: Hoof It"
   ]
  },
  {
   "cell_type": "code",
   "execution_count": 26,
   "metadata": {},
   "outputs": [],
   "source": [
    "import numpy as np\n",
    "import matplotlib.pyplot as plt\n",
    "\n",
    "\n",
    "def read_data(is_test: bool = False, plot_data: bool = True):\n",
    "    if is_test:\n",
    "        with open('data/2024-10-example.txt', 'r') as f:\n",
    "            data = f.readlines()\n",
    "    else:\n",
    "        with open('data/2024-10.txt', 'r') as f:\n",
    "            data = f.readlines()\n",
    "    data = [x.strip() for x in data]\n",
    "    top_map = np.zeros((len(data), len(data[0])), dtype=int)\n",
    "    for i, line in enumerate(data):\n",
    "        for j, height in enumerate(line):\n",
    "            top_map[i, j] = height\n",
    "    \n",
    "    if plot_data:\n",
    "        plt.imshow(top_map)\n",
    "        plt.title('Topological Map')\n",
    "        plt.axis('off')\n",
    "        plt.show()\n",
    "            \n",
    "    return top_map"
   ]
  },
  {
   "cell_type": "code",
   "execution_count": null,
   "metadata": {},
   "outputs": [],
   "source": [
    "top_map = read_data(is_test=False, plot_data=True)"
   ]
  },
  {
   "cell_type": "markdown",
   "metadata": {},
   "source": [
    "## Part 1\n",
    "A **hiking trail** is any path that starts at height 0, ends at height 9, and always increases by a height of exactly 1 at each step. Hiking trails never include diagonal steps - only up, down, left, or right (from the perspective of the map).\n",
    "\n",
    "\n",
    "A **trailhead** is any position that starts one or more hiking trails - here, these positions will always have height 0.\n",
    "\n",
    "A trailhead's **score** is the number of 9-height positions reachable from that trailhead via a hiking trail."
   ]
  },
  {
   "cell_type": "code",
   "execution_count": 104,
   "metadata": {},
   "outputs": [],
   "source": [
    "def get_trail(head: tuple, prev_height: int) -> list:\n",
    "    # terminate if head is outside the map\n",
    "    if head[0] < 0 or head[0] >= top_map.shape[0] or head[1] < 0 or head[1] >= top_map.shape[1]:\n",
    "        return []\n",
    "    \n",
    "    # get height of current position\n",
    "    height = top_map[*head]\n",
    "    \n",
    "    # terminate paths that are too steep\n",
    "    if height - prev_height != 1:\n",
    "        return []\n",
    "    \n",
    "    # Return 1 when the trail reaches the top\n",
    "    if height == 9:\n",
    "        return [tuple(head.tolist())]\n",
    "\n",
    "    # check all trail directions\n",
    "    return get_trail(head + np.array([0, 1]), height) + \\\n",
    "        get_trail(head + np.array([0, -1]), height) + \\\n",
    "        get_trail(head + np.array([1, 0]), height) + \\\n",
    "        get_trail(head + np.array([-1, 0]), height)"
   ]
  },
  {
   "cell_type": "code",
   "execution_count": null,
   "metadata": {},
   "outputs": [],
   "source": [
    "trail_heads = np.stack(np.where(top_map == 0)).T\n",
    "\n",
    "score_1 = 0\n",
    "score_2 = 0\n",
    "for head in trail_heads:\n",
    "    trails = get_trail(head, -1)\n",
    "    score_1 += len(set(trails))\n",
    "    score_2 += len(trails)\n",
    "\n",
    "print('Part 1:', score_1)\n",
    "print('Part 2:', score_2)"
   ]
  }
 ],
 "metadata": {
  "kernelspec": {
   "display_name": ".venv",
   "language": "python",
   "name": "python3"
  },
  "language_info": {
   "codemirror_mode": {
    "name": "ipython",
    "version": 3
   },
   "file_extension": ".py",
   "mimetype": "text/x-python",
   "name": "python",
   "nbconvert_exporter": "python",
   "pygments_lexer": "ipython3",
   "version": "3.11.10"
  }
 },
 "nbformat": 4,
 "nbformat_minor": 2
}
