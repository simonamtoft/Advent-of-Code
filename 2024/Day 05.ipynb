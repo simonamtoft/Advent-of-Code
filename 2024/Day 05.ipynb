{
 "cells": [
  {
   "cell_type": "markdown",
   "metadata": {},
   "source": [
    "# Day 5"
   ]
  },
  {
   "cell_type": "code",
   "execution_count": null,
   "metadata": {},
   "outputs": [],
   "source": [
    "import networkx as nx\n",
    "with open('data/2024-05.txt', 'r') as f:\n",
    "    data = f.readlines()"
   ]
  },
  {
   "cell_type": "code",
   "execution_count": null,
   "metadata": {},
   "outputs": [],
   "source": [
    "# parse the input data\n",
    "split_idx = data.index('\\n')\n",
    "rules = [list(map(int, row.strip().split('|'))) for row in data[:split_idx]]\n",
    "updates = [list(map(int, row.strip().split(','))) for row in data[split_idx+1:]]\n",
    "\n",
    "# create a graph consisting of rules\n",
    "G_rules = nx.DiGraph()\n",
    "G_rules.add_edges_from(rules)\n",
    "nx.draw(G_rules)"
   ]
  },
  {
   "cell_type": "markdown",
   "metadata": {},
   "source": [
    "## Part 1"
   ]
  },
  {
   "cell_type": "code",
   "execution_count": null,
   "metadata": {},
   "outputs": [],
   "source": [
    "count = 0\n",
    "incorrect_idx = []\n",
    "for i, upd_pages in enumerate(updates):\n",
    "    G_i = G_rules.subgraph(upd_pages).copy()\n",
    "    for p in upd_pages:\n",
    "        if G_i.in_degree[p] != 0:\n",
    "            break\n",
    "        # remove p from graph\n",
    "        G_i.remove_node(p)\n",
    "    \n",
    "    # if all nodes had 0 in_degree after removing the previous node,\n",
    "    # then increase count\n",
    "    if len(G_i) == 0:\n",
    "        middle_idx = int(len(upd_pages) / 2)\n",
    "        count += upd_pages[middle_idx]\n",
    "    else:\n",
    "        incorrect_idx.append(i)\n",
    "print('Part 1:', count)"
   ]
  },
  {
   "cell_type": "markdown",
   "metadata": {},
   "source": [
    "## Part 2"
   ]
  },
  {
   "cell_type": "code",
   "execution_count": null,
   "metadata": {},
   "outputs": [],
   "source": [
    "count = 0\n",
    "for i in incorrect_idx:\n",
    "    # get the subgraph\n",
    "    upd_pages = updates[i]\n",
    "    G_i = G_rules.subgraph(upd_pages).copy()\n",
    "\n",
    "    # perform topological sort\n",
    "    sorted_upd = list(nx.topological_sort(G_i))\n",
    "    middle_idx = int(len(sorted_upd) / 2)\n",
    "    count += sorted_upd[middle_idx]\n",
    "print('Part 2:', count)"
   ]
  }
 ],
 "metadata": {
  "kernelspec": {
   "display_name": ".venv",
   "language": "python",
   "name": "python3"
  },
  "language_info": {
   "codemirror_mode": {
    "name": "ipython",
    "version": 3
   },
   "file_extension": ".py",
   "mimetype": "text/x-python",
   "name": "python",
   "nbconvert_exporter": "python",
   "pygments_lexer": "ipython3",
   "version": "3.11.7"
  }
 },
 "nbformat": 4,
 "nbformat_minor": 2
}
