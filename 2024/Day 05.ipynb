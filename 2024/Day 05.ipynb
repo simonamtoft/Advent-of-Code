{
 "cells": [
  {
   "cell_type": "markdown",
   "metadata": {},
   "source": [
    "# Day 5"
   ]
  },
  {
   "cell_type": "code",
   "execution_count": 1,
   "metadata": {},
   "outputs": [],
   "source": [
    "import re\n",
    "import numpy as np\n",
    "from copy import deepcopy\n",
    "with open('data/2024-05.txt', 'r') as f:\n",
    "    data = f.readlines()"
   ]
  },
  {
   "cell_type": "code",
   "execution_count": 27,
   "metadata": {},
   "outputs": [],
   "source": [
    "rules = [list(map(int, row.strip().split('|'))) for row in data[:split_idx]]\n",
    "pages = [list(map(int, row.strip().split(','))) for row in data[split_idx+1:]]"
   ]
  },
  {
   "cell_type": "code",
   "execution_count": null,
   "metadata": {},
   "outputs": [
    {
     "name": "stdout",
     "output_type": "stream",
     "text": [
      "78\n",
      "[15, 31, 84, 13, 53, 46, 86, 47, 74, 64, 12, 49, 24, 57, 99, 43, 59, 93, 55, 66, 68, 88, 18, 21]\n"
     ]
    }
   ],
   "source": [
    "for p in pages:\n",
    "    for i in range(len(p)):\n",
    "        p_i_before = [r[0] for r in rules if p[i] == r[1]]\n",
    "        p_i_after = [r[1] for r in rules if p[i] == r[0]]\n",
    "        print(p[i])\n",
    "        print(p_i_before)\n",
    "        break\n",
    "    break"
   ]
  },
  {
   "cell_type": "code",
   "execution_count": 31,
   "metadata": {},
   "outputs": [
    {
     "data": {
      "text/plain": [
       "array([96, 54])"
      ]
     },
     "execution_count": 31,
     "metadata": {},
     "output_type": "execute_result"
    }
   ],
   "source": [
    "rules[0]"
   ]
  },
  {
   "cell_type": "code",
   "execution_count": null,
   "metadata": {},
   "outputs": [],
   "source": []
  }
 ],
 "metadata": {
  "kernelspec": {
   "display_name": ".venv",
   "language": "python",
   "name": "python3"
  },
  "language_info": {
   "codemirror_mode": {
    "name": "ipython",
    "version": 3
   },
   "file_extension": ".py",
   "mimetype": "text/x-python",
   "name": "python",
   "nbconvert_exporter": "python",
   "pygments_lexer": "ipython3",
   "version": "3.11.10"
  }
 },
 "nbformat": 4,
 "nbformat_minor": 2
}
