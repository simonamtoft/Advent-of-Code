{
 "cells": [
  {
   "cell_type": "markdown",
   "metadata": {},
   "source": [
    "# Day 2: Red-Nosed Reports"
   ]
  },
  {
   "cell_type": "code",
   "execution_count": null,
   "metadata": {},
   "outputs": [],
   "source": [
    "import numpy as np\n",
    "with open('data/2024-02.txt', 'r') as f:\n",
    "    levels = f.readlines()\n",
    "\n",
    "print('Example level:', levels[0])"
   ]
  },
  {
   "cell_type": "markdown",
   "metadata": {},
   "source": [
    "## Part 1"
   ]
  },
  {
   "cell_type": "code",
   "execution_count": null,
   "metadata": {},
   "outputs": [],
   "source": [
    "def level_check(level_array: np.ndarray) -> bool:\n",
    "    arr_diff = level_array[:-1] - level_array[1:]\n",
    "\n",
    "    # check that all levels are either increasing or decreasing\n",
    "    check_1 = (arr_diff > 0).all() | (arr_diff < 0).all()\n",
    "    \n",
    "    # check max difference of adjacent levels\n",
    "    check_2 = np.abs(arr_diff).max() < 4\n",
    "    \n",
    "    return check_1 & check_2"
   ]
  },
  {
   "cell_type": "code",
   "execution_count": null,
   "metadata": {},
   "outputs": [],
   "source": [
    "n_safe = 0\n",
    "for lvl in levels:\n",
    "    lvl = lvl.strip()\n",
    "    arr = np.array(lvl.split(' '), dtype=int)    \n",
    "    if level_check(arr):\n",
    "        n_safe += 1\n",
    "print(n_safe)"
   ]
  },
  {
   "cell_type": "markdown",
   "metadata": {},
   "source": [
    "## Part 2"
   ]
  },
  {
   "cell_type": "code",
   "execution_count": null,
   "metadata": {},
   "outputs": [],
   "source": [
    "n_safe = 0\n",
    "for lvl in levels:\n",
    "    lvl = lvl.strip()\n",
    "    arr = np.array(lvl.split(' '), dtype=int)\n",
    "    for i in range(len(arr)):\n",
    "        dampener_arr = np.delete(arr, i)\n",
    "        if level_check(dampener_arr):\n",
    "            n_safe += 1\n",
    "            break   # ensure to only count once per level\n",
    "print(n_safe)"
   ]
  }
 ],
 "metadata": {
  "kernelspec": {
   "display_name": ".venv",
   "language": "python",
   "name": "python3"
  },
  "language_info": {
   "codemirror_mode": {
    "name": "ipython",
    "version": 3
   },
   "file_extension": ".py",
   "mimetype": "text/x-python",
   "name": "python",
   "nbconvert_exporter": "python",
   "pygments_lexer": "ipython3",
   "version": "3.11.10"
  }
 },
 "nbformat": 4,
 "nbformat_minor": 2
}
