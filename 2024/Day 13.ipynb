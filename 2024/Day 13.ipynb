{
 "cells": [
  {
   "cell_type": "markdown",
   "metadata": {},
   "source": [
    "# Day 13: Claw Contraption"
   ]
  },
  {
   "cell_type": "code",
   "execution_count": 67,
   "metadata": {},
   "outputs": [],
   "source": [
    "import re\n",
    "import numpy as np\n",
    "from sympy import Symbol, Eq\n",
    "from sympy.solvers import solve\n",
    "\n",
    "\n",
    "def read_data(is_test: bool = False, plot_data: bool = True):\n",
    "    if is_test:\n",
    "        with open('data/2024-13-example.txt', 'r') as f:\n",
    "            data = f.readlines()\n",
    "    else:\n",
    "        with open('data/2024-13.txt', 'r') as f:\n",
    "            data = f.readlines()\n",
    "    data = ''.join(data)\n",
    "    \n",
    "    matches = re.findall(r'Button A: X\\+(\\d+), Y\\+(\\d+)\\nButton B: X\\+(\\d+), Y\\+(\\d+)\\nPrize: X=(\\d+), Y=(\\d+)', data)\n",
    "    return matches"
   ]
  },
  {
   "cell_type": "code",
   "execution_count": 71,
   "metadata": {},
   "outputs": [],
   "source": [
    "def parse_and_solve(matches: list, position_add: int = 0):\n",
    "    A = Symbol('A', positive=True, integer=True)\n",
    "    B = Symbol('B', positive=True, integer=True)\n",
    "    total_cost = 0\n",
    "    total_wins = 0\n",
    "    for match in matches:\n",
    "        match = list(map(int, match))\n",
    "        eq_x = Eq(A * match[0] + B * match[2], match[4] + position_add)\n",
    "        eq_y = Eq(A * match[1] + B * match[3], match[5] + position_add)\n",
    "        solutions = solve([eq_x, eq_y], [A, B], dict=True)\n",
    "        \n",
    "        \n",
    "        if len(solutions) == 0:\n",
    "            continue\n",
    "        \n",
    "        min_cost = np.inf\n",
    "        for sol in solutions:\n",
    "            sol_cost = sol[A] * 3 + sol[B]\n",
    "            \n",
    "            if sol_cost < min_cost:\n",
    "                min_cost = sol_cost\n",
    "        \n",
    "        total_cost += min_cost\n",
    "        total_wins += 1\n",
    "    \n",
    "    return total_cost, total_wins"
   ]
  },
  {
   "cell_type": "code",
   "execution_count": 68,
   "metadata": {},
   "outputs": [],
   "source": [
    "matches = read_data(is_test=False)"
   ]
  },
  {
   "cell_type": "code",
   "execution_count": 74,
   "metadata": {},
   "outputs": [
    {
     "name": "stdout",
     "output_type": "stream",
     "text": [
      "Part 1: 39996\n",
      "Part 2: 73267584326867\n"
     ]
    }
   ],
   "source": [
    "total_cost, _ = parse_and_solve(matches)\n",
    "print('Part 1:', total_cost)\n",
    "total_cost, _ = parse_and_solve(matches, 10000000000000)\n",
    "print('Part 2:', total_cost)"
   ]
  }
 ],
 "metadata": {
  "kernelspec": {
   "display_name": ".venv",
   "language": "python",
   "name": "python3"
  },
  "language_info": {
   "codemirror_mode": {
    "name": "ipython",
    "version": 3
   },
   "file_extension": ".py",
   "mimetype": "text/x-python",
   "name": "python",
   "nbconvert_exporter": "python",
   "pygments_lexer": "ipython3",
   "version": "3.11.10"
  }
 },
 "nbformat": 4,
 "nbformat_minor": 2
}
