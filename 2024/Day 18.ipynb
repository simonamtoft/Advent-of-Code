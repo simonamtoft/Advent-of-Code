{
 "cells": [
  {
   "cell_type": "markdown",
   "metadata": {},
   "source": [
    "# Day 18: RAM Run"
   ]
  },
  {
   "cell_type": "code",
   "execution_count": null,
   "metadata": {},
   "outputs": [],
   "source": [
    "import numpy as np\n",
    "import networkx as nx\n",
    "import matplotlib.pyplot as plt\n",
    "\n",
    "def read_data(is_test: bool = False, plot: bool = False):\n",
    "    if is_test:\n",
    "        with open('data/2024-18-example.txt', 'r') as f:\n",
    "            data = f.readlines()\n",
    "        n_bytes = 12\n",
    "        memory_space = np.zeros((7, 7))\n",
    "    else:\n",
    "        with open('data/2024-18.txt', 'r') as f:\n",
    "            data = f.readlines()\n",
    "        n_bytes = 1024\n",
    "        memory_space = np.zeros((71, 71))\n",
    "    \n",
    "    data = [x.strip() for x in data]\n",
    "    bytes_pos = np.array([list(map(int, x.split(','))) for x in data])\n",
    "\n",
    "    return memory_space, bytes_pos, n_bytes\n",
    "\n",
    "\n",
    "memory_space, bytes_pos, n_bytes = read_data(plot=True)\n",
    "memory_space[bytes_pos[:n_bytes, 0], bytes_pos[:n_bytes, 1]] = 1\n",
    "\n",
    "plt.imshow(memory_space, cmap='gray')\n",
    "plt.title('Memory Space')\n",
    "plt.axis('off')\n",
    "plt.show()"
   ]
  },
  {
   "cell_type": "markdown",
   "metadata": {},
   "source": [
    "## Part 1:"
   ]
  },
  {
   "cell_type": "code",
   "execution_count": null,
   "metadata": {},
   "outputs": [],
   "source": [
    "G = nx.Graph()\n",
    "for i, j in zip(*np.where(memory_space == 0)):\n",
    "    source = i * memory_space.shape[0] + j\n",
    "    \n",
    "    # add path to right node\n",
    "    if i < memory_space.shape[0] - 1:\n",
    "        if memory_space[i+1, j] == 0:\n",
    "            target = (i + 1) * memory_space.shape[0] + j\n",
    "            G.add_edge(source, target)\n",
    "    # add path to left node\n",
    "    if j < memory_space.shape[1] - 1:\n",
    "        if memory_space[i, j+1] == 0:\n",
    "            target = i * memory_space.shape[0] + j + 1\n",
    "            G.add_edge(source, target)\n",
    "\n",
    "start_pos = 0\n",
    "end_pos = memory_space.shape[0] * memory_space.shape[1] - 1\n",
    "\n",
    "shortest_path = nx.shortest_path(G, source=start_pos, target=end_pos)\n",
    "print('Part 1:', len(shortest_path) - 1)"
   ]
  },
  {
   "cell_type": "markdown",
   "metadata": {},
   "source": [
    "## Part 2"
   ]
  },
  {
   "cell_type": "code",
   "execution_count": null,
   "metadata": {},
   "outputs": [],
   "source": [
    "for i in range(n_bytes, bytes_pos.shape[0]):\n",
    "    # remove next corrupted byte from graph\n",
    "    next_byte = bytes_pos[i]\n",
    "    node_name = next_byte[0] * memory_space.shape[0] + next_byte[1]\n",
    "    \n",
    "    if G.has_node(node_name):\n",
    "        G.remove_node(node_name)\n",
    "    \n",
    "    # check if path still exists\n",
    "    if not nx.has_path(G, start_pos, end_pos):\n",
    "        print('Part 2:', ','.join(next_byte.astype(str)))\n",
    "        break"
   ]
  }
 ],
 "metadata": {
  "kernelspec": {
   "display_name": ".venv",
   "language": "python",
   "name": "python3"
  },
  "language_info": {
   "codemirror_mode": {
    "name": "ipython",
    "version": 3
   },
   "file_extension": ".py",
   "mimetype": "text/x-python",
   "name": "python",
   "nbconvert_exporter": "python",
   "pygments_lexer": "ipython3",
   "version": "3.11.10"
  }
 },
 "nbformat": 4,
 "nbformat_minor": 2
}
