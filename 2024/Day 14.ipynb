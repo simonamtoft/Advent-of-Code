{
 "cells": [
  {
   "cell_type": "markdown",
   "metadata": {},
   "source": [
    "# Day 14: Restroom Redoubt"
   ]
  },
  {
   "cell_type": "code",
   "execution_count": 55,
   "metadata": {},
   "outputs": [],
   "source": [
    "import re\n",
    "import time\n",
    "import numpy as np\n",
    "from operator import mul\n",
    "from functools import reduce\n",
    "import matplotlib.pyplot as plt\n",
    "from IPython.display import clear_output, display\n",
    "\n",
    "with open('data/2024-14-example.txt', 'r') as f:\n",
    "    test_data = f.readlines()\n",
    "with open('data/2024-14.txt', 'r') as f:\n",
    "    data = f.readlines()"
   ]
  },
  {
   "cell_type": "code",
   "execution_count": 89,
   "metadata": {},
   "outputs": [],
   "source": [
    "def format_input(str_data: list):\n",
    "    robot_positions = np.zeros((len(str_data), 2))\n",
    "    robot_velocities = np.zeros((len(str_data), 2))\n",
    "\n",
    "    for i, line in enumerate(str_data):\n",
    "        p = re.search(r'p=(-?\\d+),(-?\\d+)', line)\n",
    "        v = re.search(r'v=(-?\\d+),(-?\\d+)', line)\n",
    "        \n",
    "        robot_positions[i, 0] = int(p.group(2))\n",
    "        robot_positions[i, 1] = int(p.group(1))\n",
    "        robot_velocities[i, 0] = int(v.group(2))\n",
    "        robot_velocities[i, 1] = int(v.group(1))\n",
    "    robot_positions = np.array(robot_positions).astype(int)\n",
    "    robot_velocities = np.array(robot_velocities).astype(int)\n",
    "    return robot_positions, robot_velocities\n",
    "\n",
    "\n",
    "def get_robot_positions(start_pos: np.ndarray, start_vel: np.ndarray, time: int, tile_size: tuple):\n",
    "    return (start_pos + start_vel * time) % np.array(tile_size)\n",
    "\n",
    "\n",
    "def get_tile_population(positions: np.ndarray, tile_size: tuple):\n",
    "    tiles = np.zeros(tile_size, dtype=int)\n",
    "    for pos in positions:\n",
    "        tiles[*pos] += 1\n",
    "    \n",
    "    return tiles\n",
    "\n",
    "\n",
    "def quadrant_sum_prod(tiles: np.ndarray):\n",
    "    # remove the center row and columns\n",
    "    tiles = np.delete(np.delete(tiles, tiles.shape[0]//2, axis=0), tiles.shape[1]//2, axis=1)\n",
    "    \n",
    "    # sum each quadrant\n",
    "    quadrants_sum = [q.sum().item() for sub in np.split(tiles, 2, axis=0) for q in np.split(sub, 2, axis=1)]\n",
    "    \n",
    "    # return the product of the sums\n",
    "    return reduce(mul, quadrants_sum)\n",
    "\n",
    "\n",
    "def contains_subarray(arr, sub_arr):\n",
    "    n = len(arr)\n",
    "    m = len(sub_arr)\n",
    "\n",
    "    # Iterate over all possible starting indices\n",
    "    for i in range(n - m + 1):\n",
    "        isSame = True\n",
    "        for j in range(m):\n",
    "          \n",
    "            # If any character does not match, break\n",
    "            # and begin from the next starting index\n",
    "            if arr[i + j] != sub_arr[j]:\n",
    "                isSame = False\n",
    "                break\n",
    "        \n",
    "        # If all characters are matched, store the starting index\n",
    "        if isSame:\n",
    "            return True\n",
    "    return False"
   ]
  },
  {
   "cell_type": "markdown",
   "metadata": {},
   "source": [
    "## Part 1"
   ]
  },
  {
   "cell_type": "code",
   "execution_count": null,
   "metadata": {},
   "outputs": [],
   "source": [
    "time = 100\n",
    "width = 101\n",
    "height = 103\n",
    "tile_size = (height, width)\n",
    "robot_positions, robot_velocities = format_input(data)\n",
    "pos_t = get_robot_positions(robot_positions, robot_velocities, time, tile_size)\n",
    "tiles = get_tile_population(pos_t, tile_size)\n",
    "quadrant_product = quadrant_sum_prod(tiles)\n",
    "print('Part 1:', quadrant_product)"
   ]
  },
  {
   "cell_type": "markdown",
   "metadata": {},
   "source": [
    "## Part 2"
   ]
  },
  {
   "cell_type": "code",
   "execution_count": null,
   "metadata": {},
   "outputs": [],
   "source": [
    "fig, ax = plt.subplots(figsize=(8, 8))\n",
    "robot_positions, robot_velocities = format_input(data)\n",
    "pos_t = get_robot_positions(robot_positions, robot_velocities, 0, tile_size)\n",
    "tiles = get_tile_population(pos_t, tile_size)\n",
    "mat = ax.matshow(tiles, cmap=plt.cm.Blues)\n",
    "plt.axis('off')\n",
    "\n",
    "search_arr = np.ones(10)\n",
    "\n",
    "found_ts = []\n",
    "for t in range(0, 10000):\n",
    "    width = 101\n",
    "    height = 103\n",
    "    tile_size = (height, width)\n",
    "    pos_t = get_robot_positions(robot_positions, robot_velocities, t, tile_size)\n",
    "    tiles = get_tile_population(pos_t, tile_size)\n",
    "    \n",
    "    # set all values to 1 for easier subarray matching\n",
    "    tiles[tiles > 0] = 1\n",
    "    \n",
    "    # assume just 1 axis needs to have a subarray of atleast search_arr\n",
    "    for i in range(tiles.shape[0]):\n",
    "        if contains_subarray(tiles[i], search_arr):\n",
    "            found_ts.append(t)\n",
    "            print('Found at:', t)\n",
    "            break\n",
    "    \n",
    "    # if t not in found_ts:\n",
    "    #     for i in range(tiles.shape[1]):\n",
    "    #         if contains_subarray(tiles[:, i], search_arr):\n",
    "    #             print('Found at:', t)\n",
    "    #             found_ts.append(t)\n",
    "    #             break\n",
    "    \n",
    "    if t in found_ts:\n",
    "        mat.set_data(tiles)\n",
    "        clear_output(wait=True)\n",
    "        plt.title(f'Time: {t}')\n",
    "        display(fig)\n",
    "        time.sleep(1)\n",
    "        break\n",
    "plt.close()"
   ]
  },
  {
   "cell_type": "markdown",
   "metadata": {},
   "source": []
  }
 ],
 "metadata": {
  "kernelspec": {
   "display_name": ".venv",
   "language": "python",
   "name": "python3"
  },
  "language_info": {
   "codemirror_mode": {
    "name": "ipython",
    "version": 3
   },
   "file_extension": ".py",
   "mimetype": "text/x-python",
   "name": "python",
   "nbconvert_exporter": "python",
   "pygments_lexer": "ipython3",
   "version": "3.11.10"
  }
 },
 "nbformat": 4,
 "nbformat_minor": 2
}
