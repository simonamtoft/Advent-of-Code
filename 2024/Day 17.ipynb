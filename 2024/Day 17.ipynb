{
 "cells": [
  {
   "cell_type": "markdown",
   "metadata": {},
   "source": [
    "# Day 17: Chronospatial Computer"
   ]
  },
  {
   "cell_type": "code",
   "execution_count": null,
   "metadata": {},
   "outputs": [],
   "source": [
    "import re\n",
    "import json\n",
    "\n",
    "with open('data/2024-17-example.txt', 'r') as f:\n",
    "    test_data = f.readlines()\n",
    "with open('data/2024-17.txt', 'r') as f:\n",
    "    data = f.readlines()\n",
    "\n",
    "test_data = [x.strip() for x in test_data]\n",
    "data = [x.strip() for x in data]\n",
    "print('Example data')\n",
    "print('\\n'.join(data))"
   ]
  },
  {
   "cell_type": "code",
   "execution_count": 28,
   "metadata": {},
   "outputs": [],
   "source": [
    "def prepare_data(input_data: list):\n",
    "    split_idx = input_data.index('')\n",
    "    \n",
    "    # get registers data\n",
    "    register = {}\n",
    "    register_data = input_data[:split_idx]\n",
    "    for line in register_data:\n",
    "        m = re.match(r'Register (\\w+): (\\d+)', line)\n",
    "        register[m.group(1)] = int(m.group(2))\n",
    "    \n",
    "    # get instructions\n",
    "    program = input_data[split_idx+1:][0].replace('Program: ', '')\n",
    "    instructions = list(map(int, program.split(',')))\n",
    "    \n",
    "    # convert instructions to tuples of (opcode, operand)\n",
    "    instructions = list(zip(instructions[0::2], instructions[1::2]))\n",
    "\n",
    "    return register, instructions, program\n",
    "\n",
    "\n",
    "def get_combo_operand(operand: int, register: dict) -> int:\n",
    "    if operand < 4:\n",
    "        return operand\n",
    "    if operand == 4:\n",
    "        return register['A']\n",
    "    if operand == 5:\n",
    "        return register['B']\n",
    "    if operand == 6:\n",
    "        return register['C']\n",
    "    if operand == 7:\n",
    "        raise ValueError('Invalid combo operand 7')\n",
    "\n",
    "\n",
    "def compute_instruction(register: dict, opcode: int, operand: int, pointer: int, write_out: list) -> int:\n",
    "    # adv instruction (div A / 2**combo)\n",
    "    if opcode == 0:\n",
    "        register['A'] = register['A'] >> get_combo_operand(operand, register)\n",
    "    # bxl instruction (bitwise B xor operand)\n",
    "    elif opcode == 1:\n",
    "        register['B'] = register['B'] ^ operand\n",
    "    # bst instruction (combo modulo 8)\n",
    "    elif opcode == 2:\n",
    "        register['B'] = get_combo_operand(operand, register) % 8\n",
    "    # jnz instruction\n",
    "    elif opcode == 3:\n",
    "        if register['A'] != 0:\n",
    "            pointer = (operand - 2)\n",
    "    # bxc instruction\n",
    "    elif opcode == 4:\n",
    "        register['B'] = register['B'] ^ register['C']\n",
    "    # out instruction\n",
    "    elif opcode == 5:\n",
    "        write_out.append(str(get_combo_operand(operand, register) % 8))\n",
    "    # bdv instruction\n",
    "    elif opcode == 6:\n",
    "        register['B'] = register['A'] >> get_combo_operand(operand, register)\n",
    "    # cdv instruction\n",
    "    elif opcode == 7:\n",
    "        register['C'] = register['A'] >> get_combo_operand(operand, register)\n",
    "    \n",
    "    return register, pointer, write_out"
   ]
  },
  {
   "cell_type": "code",
   "execution_count": null,
   "metadata": {},
   "outputs": [],
   "source": [
    "# initialize data\n",
    "register, instructions, _ = prepare_data(data)\n",
    "pointer = 0\n",
    "write_out = []\n",
    "while pointer < (len(instructions)*2):\n",
    "    opcode, operand = instructions[pointer//2]\n",
    "    register, pointer, write_out = compute_instruction(register, opcode, operand, pointer, write_out)\n",
    "    pointer += 2\n",
    "\n",
    "write_out = ','.join(map(str, write_out)) \n",
    "print('Part 1:', write_out)"
   ]
  }
 ],
 "metadata": {
  "kernelspec": {
   "display_name": ".venv",
   "language": "python",
   "name": "python3"
  },
  "language_info": {
   "codemirror_mode": {
    "name": "ipython",
    "version": 3
   },
   "file_extension": ".py",
   "mimetype": "text/x-python",
   "name": "python",
   "nbconvert_exporter": "python",
   "pygments_lexer": "ipython3",
   "version": "3.11.10"
  }
 },
 "nbformat": 4,
 "nbformat_minor": 2
}
