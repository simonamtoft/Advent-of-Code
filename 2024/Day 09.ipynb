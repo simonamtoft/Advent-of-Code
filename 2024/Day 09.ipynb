{
 "cells": [
  {
   "cell_type": "markdown",
   "metadata": {},
   "source": [
    "# Day 9"
   ]
  },
  {
   "cell_type": "code",
   "execution_count": 2,
   "metadata": {},
   "outputs": [],
   "source": [
    "import json\n",
    "import numpy as np\n",
    "with open('data/2024-09-example.txt', 'r') as f:\n",
    "    test_data = f.read()\n",
    "\n",
    "with open('data/2024-09.txt', 'r') as f:\n",
    "    data = f.read().strip()"
   ]
  },
  {
   "cell_type": "markdown",
   "metadata": {},
   "source": [
    "## Part 1"
   ]
  },
  {
   "cell_type": "code",
   "execution_count": 3,
   "metadata": {},
   "outputs": [],
   "source": [
    "def setup_idx(data):\n",
    "    idx_map = {}\n",
    "    free_idx = []\n",
    "    current_idx = 0\n",
    "    for i, num in enumerate(data):\n",
    "        num = int(num)\n",
    "        if num == 0:\n",
    "            continue\n",
    "        num_idx = (np.arange(int(num)) + current_idx).tolist()\n",
    "        current_idx = num_idx[-1] + 1\n",
    "        if i % 2 == 0:\n",
    "            idx_map[len(idx_map.keys())] = num_idx\n",
    "        else:\n",
    "            free_idx.extend(num_idx)\n",
    "    \n",
    "    return free_idx, idx_map\n",
    "\n",
    "\n",
    "def compute_checksum(idx_map: dict) -> int:\n",
    "    total_sum = 0\n",
    "    for file_id, placements in idx_map.items():\n",
    "        total_sum += (file_id * np.array(placements)).sum()\n",
    "    return total_sum"
   ]
  },
  {
   "cell_type": "code",
   "execution_count": null,
   "metadata": {},
   "outputs": [],
   "source": [
    "free_idx, idx_map = setup_idx(data)\n",
    "left_most = max(idx_map.keys())\n",
    "while len(free_idx):\n",
    "    empty_idx = free_idx.pop(0)\n",
    "    left_most_idx = max(idx_map[left_most])\n",
    "    if empty_idx >= left_most_idx:\n",
    "        break\n",
    "    left_idx = idx_map[left_most].index(left_most_idx)\n",
    "    idx_map[left_most][left_idx] = empty_idx\n",
    "    if left_idx == 0:\n",
    "        left_most -= 1\n",
    "\n",
    "print('Part 1:', compute_checksum(idx_map))"
   ]
  },
  {
   "cell_type": "markdown",
   "metadata": {},
   "source": [
    "## Part 2 (incomplete)"
   ]
  },
  {
   "cell_type": "code",
   "execution_count": null,
   "metadata": {},
   "outputs": [],
   "source": [
    "free_idx, idx_map = setup_idx(data)\n",
    "\n",
    "# reverse iterate over the idx_map\n",
    "stop_search = False\n",
    "for file_id in np.arange(len(idx_map.keys()))[::-1]:\n",
    "    file_size = len(idx_map[file_id])\n",
    "    \n",
    "    if free_idx[file_size] >= min(idx_map[file_id]):\n",
    "        continue\n",
    "    \n",
    "    # check first free_idx\n",
    "    for start_idx in range(0, len(free_idx) - file_size):\n",
    "        end_empty_idx = start_idx + file_size\n",
    "        has_space = ((free_idx[start_idx:end_empty_idx] - np.arange(file_size) - free_idx[start_idx]) == 0).all()\n",
    "        if has_space:\n",
    "            # move file to the left\n",
    "            idx_map[file_id] = free_idx[start_idx:end_empty_idx]\n",
    "\n",
    "            # remove the empty space\n",
    "            del free_idx[start_idx:end_empty_idx]\n",
    "            break\n",
    "print('Part 2:', compute_checksum(idx_map))"
   ]
  },
  {
   "cell_type": "code",
   "execution_count": null,
   "metadata": {},
   "outputs": [],
   "source": []
  }
 ],
 "metadata": {
  "kernelspec": {
   "display_name": ".venv",
   "language": "python",
   "name": "python3"
  },
  "language_info": {
   "codemirror_mode": {
    "name": "ipython",
    "version": 3
   },
   "file_extension": ".py",
   "mimetype": "text/x-python",
   "name": "python",
   "nbconvert_exporter": "python",
   "pygments_lexer": "ipython3",
   "version": "3.11.10"
  }
 },
 "nbformat": 4,
 "nbformat_minor": 2
}
