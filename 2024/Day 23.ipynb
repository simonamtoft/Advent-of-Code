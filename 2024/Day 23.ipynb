{
 "cells": [
  {
   "cell_type": "markdown",
   "metadata": {},
   "source": [
    "# Day 23: LAN Party"
   ]
  },
  {
   "cell_type": "code",
   "execution_count": null,
   "metadata": {},
   "outputs": [],
   "source": [
    "import itertools\n",
    "import networkx as nx\n",
    "from collections import deque\n",
    "\n",
    "def read_data(is_test: bool = False):\n",
    "    if is_test:\n",
    "        with open('data/2024-23-example.txt', 'r') as f:\n",
    "            data = f.readlines()\n",
    "    else:\n",
    "        with open('data/2024-23.txt', 'r') as f:\n",
    "            data = f.readlines()\n",
    "    \n",
    "    G = nx.Graph()\n",
    "    for con in data:\n",
    "        con = con.strip().split('-')\n",
    "        G.add_edge(con[0], con[1])\n",
    "\n",
    "    return G"
   ]
  },
  {
   "cell_type": "code",
   "execution_count": 35,
   "metadata": {},
   "outputs": [],
   "source": [
    "G = read_data(is_test=False)"
   ]
  },
  {
   "cell_type": "markdown",
   "metadata": {},
   "source": [
    "## Part 1"
   ]
  },
  {
   "cell_type": "code",
   "execution_count": null,
   "metadata": {},
   "outputs": [],
   "source": [
    "t_triads = []\n",
    "all_cliques = nx.enumerate_all_cliques(G)\n",
    "for x in all_cliques:\n",
    "    if len(x) == 3 and any([y.startswith('t') for y in x]):\n",
    "        t_triads.append(x)\n",
    "print('Part 1:', len(t_triads))"
   ]
  },
  {
   "cell_type": "markdown",
   "metadata": {},
   "source": [
    "## Part 2"
   ]
  },
  {
   "cell_type": "code",
   "execution_count": null,
   "metadata": {},
   "outputs": [],
   "source": [
    "# get the last element of the iterator, since it is the largest clique\n",
    "all_cliques = nx.enumerate_all_cliques(G)\n",
    "iter_deque = deque(all_cliques)\n",
    "last = iter_deque.pop()\n",
    "# sort alphabetically, and join with commas\n",
    "print('Part 2:', ','.join(sorted(last)))"
   ]
  }
 ],
 "metadata": {
  "kernelspec": {
   "display_name": ".venv",
   "language": "python",
   "name": "python3"
  },
  "language_info": {
   "codemirror_mode": {
    "name": "ipython",
    "version": 3
   },
   "file_extension": ".py",
   "mimetype": "text/x-python",
   "name": "python",
   "nbconvert_exporter": "python",
   "pygments_lexer": "ipython3",
   "version": "3.11.10"
  }
 },
 "nbformat": 4,
 "nbformat_minor": 2
}
